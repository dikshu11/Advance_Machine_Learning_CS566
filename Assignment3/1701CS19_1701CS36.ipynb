{
  "nbformat": 4,
  "nbformat_minor": 0,
  "metadata": {
    "colab": {
      "name": "1701CS19_1701CS36.ipynb",
      "provenance": [],
      "toc_visible": true
    },
    "kernelspec": {
      "name": "python3",
      "display_name": "Python 3"
    }
  },
  "cells": [
    {
      "cell_type": "code",
      "metadata": {
        "id": "IaMGMFL2BMOe"
      },
      "source": [
        "import pandas as pd\n",
        "import numpy as np\n",
        "import matplotlib.pyplot as plt"
      ],
      "execution_count": 1,
      "outputs": []
    },
    {
      "cell_type": "code",
      "metadata": {
        "colab": {
          "base_uri": "https://localhost:8080/"
        },
        "id": "tVbqnEyl4UpA",
        "outputId": "759266e4-3de5-49b4-a098-354c21c909ce"
      },
      "source": [
        "!wget https://archive.ics.uci.edu/ml/machine-learning-databases/iris/iris.data\n",
        "!wget https://archive.ics.uci.edu/ml/machine-learning-databases/wine/wine.data\n",
        "!wget https://archive.ics.uci.edu/ml/machine-learning-databases/breast-cancer/breast-cancer.data"
      ],
      "execution_count": 2,
      "outputs": [
        {
          "output_type": "stream",
          "text": [
            "--2021-04-25 12:44:10--  https://archive.ics.uci.edu/ml/machine-learning-databases/iris/iris.data\n",
            "Resolving archive.ics.uci.edu (archive.ics.uci.edu)... 128.195.10.252\n",
            "Connecting to archive.ics.uci.edu (archive.ics.uci.edu)|128.195.10.252|:443... connected.\n",
            "HTTP request sent, awaiting response... 200 OK\n",
            "Length: 4551 (4.4K) [application/x-httpd-php]\n",
            "Saving to: ‘iris.data’\n",
            "\n",
            "iris.data           100%[===================>]   4.44K  --.-KB/s    in 0s      \n",
            "\n",
            "2021-04-25 12:44:10 (84.5 MB/s) - ‘iris.data’ saved [4551/4551]\n",
            "\n",
            "--2021-04-25 12:44:10--  https://archive.ics.uci.edu/ml/machine-learning-databases/wine/wine.data\n",
            "Resolving archive.ics.uci.edu (archive.ics.uci.edu)... 128.195.10.252\n",
            "Connecting to archive.ics.uci.edu (archive.ics.uci.edu)|128.195.10.252|:443... connected.\n",
            "HTTP request sent, awaiting response... 200 OK\n",
            "Length: 10782 (11K) [application/x-httpd-php]\n",
            "Saving to: ‘wine.data’\n",
            "\n",
            "wine.data           100%[===================>]  10.53K  --.-KB/s    in 0s      \n",
            "\n",
            "2021-04-25 12:44:11 (89.5 MB/s) - ‘wine.data’ saved [10782/10782]\n",
            "\n",
            "--2021-04-25 12:44:11--  https://archive.ics.uci.edu/ml/machine-learning-databases/breast-cancer/breast-cancer.data\n",
            "Resolving archive.ics.uci.edu (archive.ics.uci.edu)... 128.195.10.252\n",
            "Connecting to archive.ics.uci.edu (archive.ics.uci.edu)|128.195.10.252|:443... connected.\n",
            "HTTP request sent, awaiting response... 200 OK\n",
            "Length: 18654 (18K) [application/x-httpd-php]\n",
            "Saving to: ‘breast-cancer.data’\n",
            "\n",
            "breast-cancer.data  100%[===================>]  18.22K  --.-KB/s    in 0.06s   \n",
            "\n",
            "2021-04-25 12:44:11 (284 KB/s) - ‘breast-cancer.data’ saved [18654/18654]\n",
            "\n"
          ],
          "name": "stdout"
        }
      ]
    },
    {
      "cell_type": "code",
      "metadata": {
        "id": "22V5gwiUKkJX"
      },
      "source": [
        "from scipy.spatial import distance\n",
        "class Particle:\n",
        "  def __init__(self, n_clusters, data):\n",
        "    self.cur_pos = data[np.random.choice(list(range(len(data))), n_clusters)]\n",
        "    self.pb_pos = self.cur_pos.copy()\n",
        "    self.velocity = np.zeros_like(self.cur_pos)\n",
        "    self.pb_val = np.inf\n",
        "\n",
        "def initParticles(data, n_clusters, n_particles):\n",
        "  particles = []\n",
        "  for i in range(n_particles):\n",
        "    particles.append(Particle(n_clusters, data))\n",
        "  return particles\n",
        "\n",
        "def getDistances(data, particle):\n",
        "  distances = []\n",
        "  for centroid in particle.cur_pos:\n",
        "    d = np.linalg.norm(data - centroid, axis = 1)\n",
        "    distances.append(d)\n",
        "  distances = np.array(distances)\n",
        "  return distances\n",
        "\n",
        "def fitnessFunction(clusters, n_clusters, distances):\n",
        "  J = 0.0\n",
        "  for i in range(n_clusters):\n",
        "    p = np.where(clusters == i)[0]\n",
        "    if len(p):\n",
        "      d = sum(distances[i][p])\n",
        "      d /= len(p)\n",
        "      J += d\n",
        "  J /= n_clusters\n",
        "  return J"
      ],
      "execution_count": 3,
      "outputs": []
    },
    {
      "cell_type": "code",
      "metadata": {
        "id": "mHW2WQJAXFxZ"
      },
      "source": [
        "def updatePbAndGb(data, particle, n_clusters, gb_val, gb_pos, gb_clusters):\n",
        "  distances = getDistances(data, particle)\n",
        "  clusters = np.argmin(distances, axis=0)  # shape: (len(data),)\n",
        "  clusters_ids = np.unique(clusters)\n",
        "\n",
        "  while len(clusters_ids) != n_clusters:\n",
        "    deleted_clusters = np.where(np.isin(np.arange(n_clusters), clusters_ids) == False)[0]\n",
        "    particle.cur_pos[deleted_clusters] = data[np.random.choice(list(range(len(data))), len(deleted_clusters))]\n",
        "    distances = getDistances(data, particle)\n",
        "    clusters = np.argmin(distances, axis=0)\n",
        "    clusters_ids = np.unique(clusters)\n",
        "  \n",
        "  fitnessVal = fitnessFunction(clusters, n_clusters, distances)\n",
        "  if fitnessVal < particle.pb_val:\n",
        "    particle.pb_val = fitnessVal\n",
        "    particle.pb_pos = particle.cur_pos.copy()\n",
        "  \n",
        "  if particle.pb_val < gb_val:\n",
        "    gb_val = particle.pb_val\n",
        "    gb_pos = particle.pb_pos\n",
        "    gb_clusters = clusters.copy()\n",
        "  return gb_val, gb_pos, gb_clusters\n",
        "\n",
        "def updateVelocity(particle, gb_pos, w=0.72, c1=1.49, c2=1.49):\n",
        "  previousVelFrac = w * particle.velocity\n",
        "  cognitiveComp = c1 * np.random.random() * (particle.pb_pos - particle.cur_pos)\n",
        "  socialComp = c2 * np.random.random() * (gb_pos - particle.cur_pos)\n",
        "  particle.velocity = previousVelFrac + cognitiveComp + socialComp\n",
        "\n",
        "def updateCentroids(particle, gb_pos):\n",
        "  updateVelocity(particle, gb_pos)\n",
        "  particle.cur_pos = particle.cur_pos + particle.velocity"
      ],
      "execution_count": 4,
      "outputs": []
    },
    {
      "cell_type": "code",
      "metadata": {
        "id": "_K_mJieWNWsm"
      },
      "source": [
        "# Get Clustering given by gbest PSO algorithm\n",
        "def gbestPSOClustering(n_iters, data, n_clusters, n_particles, w=0.72, c1=1.49, c2=1.49): \n",
        "  \n",
        "  particles = initParticles(data, n_clusters, n_particles)\n",
        "  \n",
        "  gb_val = np.inf\n",
        "  gb_pos = None\n",
        "  gb_clusters = None\n",
        "\n",
        "  for i in range(n_iters):\n",
        "    for particle in particles:\n",
        "      gb_val, gb_pos, gb_clusters = updatePbAndGb(data, particle, n_clusters, gb_val, gb_pos, gb_clusters)\n",
        "  \n",
        "    for particle in particles:\n",
        "      updateCentroids(particle, gb_pos)\n",
        "  return gb_clusters, gb_pos, gb_val\n",
        "\n",
        "def getIntraClusterDistance(data):\n",
        "  data = data[~np.isnan(data)]\n",
        "  d = 0\n",
        "  ln = len(data)\n",
        "  if ln <= 1:\n",
        "    return 0\n",
        "  total = (ln * (ln - 1)) // 2\n",
        "  for i in range(ln):\n",
        "    for j in range(ln):\n",
        "      if j <= i:\n",
        "        continue\n",
        "      d += distance.euclidean(data[j], data[i])\n",
        "  d = d / total\n",
        "  return d"
      ],
      "execution_count": 5,
      "outputs": []
    },
    {
      "cell_type": "code",
      "metadata": {
        "id": "e1ibtsItPqbT"
      },
      "source": [
        "data_points = pd.read_csv('iris.data', sep=',', header=None)\n",
        "clusters, centroids, quantError = gbestPSOClustering(10000, data_points.iloc[:, :4].values, 3, 10)"
      ],
      "execution_count": 6,
      "outputs": []
    },
    {
      "cell_type": "code",
      "metadata": {
        "colab": {
          "base_uri": "https://localhost:8080/"
        },
        "id": "GuRz4qlRKoUm",
        "outputId": "962f3ace-e597-4bbd-abf7-b7c95ca0ad8b"
      },
      "source": [
        "print(\"Quantization Error : \", quantError)"
      ],
      "execution_count": 7,
      "outputs": [
        {
          "output_type": "stream",
          "text": [
            "Quantization Error :  0.5308110415892776\n"
          ],
          "name": "stdout"
        }
      ]
    },
    {
      "cell_type": "code",
      "metadata": {
        "colab": {
          "base_uri": "https://localhost:8080/"
        },
        "id": "4u6c68WdAJlz",
        "outputId": "57710d49-8f33-46f0-e6e7-c6c5890294ff"
      },
      "source": [
        "class0 = []\n",
        "class1 = []\n",
        "class2 = []\n",
        "for i in range(len(clusters)):\n",
        "  if clusters[i] == 0:\n",
        "    class0.append(i)\n",
        "  elif clusters[i] == 1:\n",
        "    class1.append(i)\n",
        "  elif clusters[i] == 2:\n",
        "    class2.append(i)\n",
        "dis0 = getIntraClusterDistance(data_points.iloc[class0].iloc[:, :4].values)\n",
        "dis1 = getIntraClusterDistance(data_points.iloc[class1].iloc[:, :4].values)\n",
        "dis2 = getIntraClusterDistance(data_points.iloc[class2].iloc[:, :4].values)\n",
        "print(\"Intra Cluster Distances\")\n",
        "print(\"Class 0 : \", dis0)\n",
        "print(\"Class 1 : \", dis1)\n",
        "print(\"Class 2 : \", dis2)"
      ],
      "execution_count": 8,
      "outputs": [
        {
          "output_type": "stream",
          "text": [
            "Intra Cluster Distances\n",
            "Class 0 :  2.107974874371836\n",
            "Class 1 :  2.266666666666667\n",
            "Class 2 :  2.1516289477049693\n"
          ],
          "name": "stdout"
        }
      ]
    },
    {
      "cell_type": "code",
      "metadata": {
        "colab": {
          "base_uri": "https://localhost:8080/"
        },
        "id": "EX4Yl4KWGt5p",
        "outputId": "4901f80d-cc7a-4879-ae35-28fbc32ac0d6"
      },
      "source": [
        "print(\"Inter Cluster Distances\")\n",
        "for i in range(len(centroids)):\n",
        "  for j in range(len(centroids)):\n",
        "    if j <= i:\n",
        "      continue\n",
        "    print(\"Class \", i, \"-\", j, \" : \", distance.euclidean(centroids[i], centroids[j]))"
      ],
      "execution_count": 9,
      "outputs": [
        {
          "output_type": "stream",
          "text": [
            "Inter Cluster Distances\n",
            "Class  0 - 1  :  1.0548223105810384\n",
            "Class  0 - 2  :  3.8624245942857196\n",
            "Class  1 - 2  :  4.15130645980796\n"
          ],
          "name": "stdout"
        }
      ]
    },
    {
      "cell_type": "code",
      "metadata": {
        "id": "L1A9wHZZxT3P"
      },
      "source": [
        "data_points = pd.read_csv('wine.data', sep=',', header=None)\n",
        "clusters, centroids, quantError = gbestPSOClustering(1000, data_points[[1, 2, 3]].values, 3, 10)"
      ],
      "execution_count": 10,
      "outputs": []
    },
    {
      "cell_type": "code",
      "metadata": {
        "colab": {
          "base_uri": "https://localhost:8080/"
        },
        "id": "V6E5yCSdK0sL",
        "outputId": "bfb5a083-ab85-452b-9aad-59703b07ac62"
      },
      "source": [
        "print(\"Quantization Error : \", quantError)"
      ],
      "execution_count": 11,
      "outputs": [
        {
          "output_type": "stream",
          "text": [
            "Quantization Error :  0.706252344223874\n"
          ],
          "name": "stdout"
        }
      ]
    },
    {
      "cell_type": "code",
      "metadata": {
        "colab": {
          "base_uri": "https://localhost:8080/"
        },
        "id": "NKAst662IDoL",
        "outputId": "f5525a7d-39a0-4b36-9ad3-89e2508ce008"
      },
      "source": [
        "class0 = []\n",
        "class1 = []\n",
        "class2 = []\n",
        "for i in range(len(clusters)):\n",
        "  if clusters[i] == 0:\n",
        "    class0.append(i)\n",
        "  elif clusters[i] == 1:\n",
        "    class1.append(i)\n",
        "  elif clusters[i] == 2:\n",
        "    class2.append(i)\n",
        "dis0 = getIntraClusterDistance(data_points.iloc[class0].iloc[:, 1:].values)\n",
        "dis1 = getIntraClusterDistance(data_points.iloc[class1].iloc[:, 1:].values)\n",
        "dis2 = getIntraClusterDistance(data_points.iloc[class2].iloc[:, 1:].values)\n",
        "print(\"Intra Cluster Distances\")\n",
        "print(\"Class 0 : \", dis0)\n",
        "print(\"Class 1 : \", dis1)\n",
        "print(\"Class 2 : \", dis2)"
      ],
      "execution_count": 12,
      "outputs": [
        {
          "output_type": "stream",
          "text": [
            "Intra Cluster Distances\n",
            "Class 0 :  104.49960609510711\n",
            "Class 1 :  170.86538864780604\n",
            "Class 2 :  99.48179393699853\n"
          ],
          "name": "stdout"
        }
      ]
    },
    {
      "cell_type": "code",
      "metadata": {
        "colab": {
          "base_uri": "https://localhost:8080/"
        },
        "id": "4ZcDjo83Idij",
        "outputId": "998095d3-8881-44a2-9882-c3cc6fbe010f"
      },
      "source": [
        "print(\"Inter Cluster Distances\")\n",
        "for i in range(len(centroids)):\n",
        "  for j in range(len(centroids)):\n",
        "    if j <= i:\n",
        "      continue\n",
        "    print(\"Class \", i, \"-\", j, \" : \", distance.euclidean(centroids[i], centroids[j]))"
      ],
      "execution_count": 13,
      "outputs": [
        {
          "output_type": "stream",
          "text": [
            "Inter Cluster Distances\n",
            "Class  0 - 1  :  1.7164659290589859\n",
            "Class  0 - 2  :  1.9877125522722632\n",
            "Class  1 - 2  :  1.480726265293889\n"
          ],
          "name": "stdout"
        }
      ]
    },
    {
      "cell_type": "code",
      "metadata": {
        "colab": {
          "base_uri": "https://localhost:8080/",
          "height": 195
        },
        "id": "6dKHt49dxYD0",
        "outputId": "6a9c0544-b6d3-422c-bb4a-05e207b2d908"
      },
      "source": [
        "data_points = pd.read_csv('breast-cancer.data', sep=',', header=None)\n",
        "data_points.head()"
      ],
      "execution_count": 14,
      "outputs": [
        {
          "output_type": "execute_result",
          "data": {
            "text/html": [
              "<div>\n",
              "<style scoped>\n",
              "    .dataframe tbody tr th:only-of-type {\n",
              "        vertical-align: middle;\n",
              "    }\n",
              "\n",
              "    .dataframe tbody tr th {\n",
              "        vertical-align: top;\n",
              "    }\n",
              "\n",
              "    .dataframe thead th {\n",
              "        text-align: right;\n",
              "    }\n",
              "</style>\n",
              "<table border=\"1\" class=\"dataframe\">\n",
              "  <thead>\n",
              "    <tr style=\"text-align: right;\">\n",
              "      <th></th>\n",
              "      <th>0</th>\n",
              "      <th>1</th>\n",
              "      <th>2</th>\n",
              "      <th>3</th>\n",
              "      <th>4</th>\n",
              "      <th>5</th>\n",
              "      <th>6</th>\n",
              "      <th>7</th>\n",
              "      <th>8</th>\n",
              "      <th>9</th>\n",
              "    </tr>\n",
              "  </thead>\n",
              "  <tbody>\n",
              "    <tr>\n",
              "      <th>0</th>\n",
              "      <td>no-recurrence-events</td>\n",
              "      <td>30-39</td>\n",
              "      <td>premeno</td>\n",
              "      <td>30-34</td>\n",
              "      <td>0-2</td>\n",
              "      <td>no</td>\n",
              "      <td>3</td>\n",
              "      <td>left</td>\n",
              "      <td>left_low</td>\n",
              "      <td>no</td>\n",
              "    </tr>\n",
              "    <tr>\n",
              "      <th>1</th>\n",
              "      <td>no-recurrence-events</td>\n",
              "      <td>40-49</td>\n",
              "      <td>premeno</td>\n",
              "      <td>20-24</td>\n",
              "      <td>0-2</td>\n",
              "      <td>no</td>\n",
              "      <td>2</td>\n",
              "      <td>right</td>\n",
              "      <td>right_up</td>\n",
              "      <td>no</td>\n",
              "    </tr>\n",
              "    <tr>\n",
              "      <th>2</th>\n",
              "      <td>no-recurrence-events</td>\n",
              "      <td>40-49</td>\n",
              "      <td>premeno</td>\n",
              "      <td>20-24</td>\n",
              "      <td>0-2</td>\n",
              "      <td>no</td>\n",
              "      <td>2</td>\n",
              "      <td>left</td>\n",
              "      <td>left_low</td>\n",
              "      <td>no</td>\n",
              "    </tr>\n",
              "    <tr>\n",
              "      <th>3</th>\n",
              "      <td>no-recurrence-events</td>\n",
              "      <td>60-69</td>\n",
              "      <td>ge40</td>\n",
              "      <td>15-19</td>\n",
              "      <td>0-2</td>\n",
              "      <td>no</td>\n",
              "      <td>2</td>\n",
              "      <td>right</td>\n",
              "      <td>left_up</td>\n",
              "      <td>no</td>\n",
              "    </tr>\n",
              "    <tr>\n",
              "      <th>4</th>\n",
              "      <td>no-recurrence-events</td>\n",
              "      <td>40-49</td>\n",
              "      <td>premeno</td>\n",
              "      <td>0-4</td>\n",
              "      <td>0-2</td>\n",
              "      <td>no</td>\n",
              "      <td>2</td>\n",
              "      <td>right</td>\n",
              "      <td>right_low</td>\n",
              "      <td>no</td>\n",
              "    </tr>\n",
              "  </tbody>\n",
              "</table>\n",
              "</div>"
            ],
            "text/plain": [
              "                      0      1        2      3  ...  6      7          8   9\n",
              "0  no-recurrence-events  30-39  premeno  30-34  ...  3   left   left_low  no\n",
              "1  no-recurrence-events  40-49  premeno  20-24  ...  2  right   right_up  no\n",
              "2  no-recurrence-events  40-49  premeno  20-24  ...  2   left   left_low  no\n",
              "3  no-recurrence-events  60-69     ge40  15-19  ...  2  right    left_up  no\n",
              "4  no-recurrence-events  40-49  premeno    0-4  ...  2  right  right_low  no\n",
              "\n",
              "[5 rows x 10 columns]"
            ]
          },
          "metadata": {
            "tags": []
          },
          "execution_count": 14
        }
      ]
    },
    {
      "cell_type": "code",
      "metadata": {
        "colab": {
          "base_uri": "https://localhost:8080/",
          "height": 195
        },
        "id": "CNa0tRTK3nGI",
        "outputId": "434deadb-ee57-43f5-8b57-040aaa1c9915"
      },
      "source": [
        "# replace 2nd, 4rd, 5th column with the avg. values\n",
        "data_points[1] = data_points[1].str.split('-').apply(lambda x: (float(x[0]) + float(x[1]))/2)\n",
        "data_points[3] = data_points[3].str.split('-').apply(lambda x: (float(x[0]) + float(x[1]))/2)\n",
        "data_points[4] = data_points[4].str.split('-').apply(lambda x: (float(x[0]) + float(x[1]))/2)\n",
        "\n",
        "# map columns with string with appropriate numbers\n",
        "map2 = {'lt40' : 0, 'ge40' : 1, 'premeno' : 2}\n",
        "data_points[2] = data_points[2].map(map2)\n",
        "\n",
        "map5_9 = {'yes' : 1, 'no' : 0}\n",
        "data_points[5] = data_points[5].map(map5_9)\n",
        "data_points[9] = data_points[9].map(map5_9)\n",
        "\n",
        "map7 = {'left' : 0, 'right' : 1}\n",
        "data_points[7] = data_points[7].map(map7)\n",
        "\n",
        "map8 = {'left_up' : 0, 'left_low' : 1, 'right_up' : 2, 'right_low' : 3, 'central' : 4}\n",
        "data_points[8] = data_points[8].map(map8)\n",
        "\n",
        "data_points.head()"
      ],
      "execution_count": 15,
      "outputs": [
        {
          "output_type": "execute_result",
          "data": {
            "text/html": [
              "<div>\n",
              "<style scoped>\n",
              "    .dataframe tbody tr th:only-of-type {\n",
              "        vertical-align: middle;\n",
              "    }\n",
              "\n",
              "    .dataframe tbody tr th {\n",
              "        vertical-align: top;\n",
              "    }\n",
              "\n",
              "    .dataframe thead th {\n",
              "        text-align: right;\n",
              "    }\n",
              "</style>\n",
              "<table border=\"1\" class=\"dataframe\">\n",
              "  <thead>\n",
              "    <tr style=\"text-align: right;\">\n",
              "      <th></th>\n",
              "      <th>0</th>\n",
              "      <th>1</th>\n",
              "      <th>2</th>\n",
              "      <th>3</th>\n",
              "      <th>4</th>\n",
              "      <th>5</th>\n",
              "      <th>6</th>\n",
              "      <th>7</th>\n",
              "      <th>8</th>\n",
              "      <th>9</th>\n",
              "    </tr>\n",
              "  </thead>\n",
              "  <tbody>\n",
              "    <tr>\n",
              "      <th>0</th>\n",
              "      <td>no-recurrence-events</td>\n",
              "      <td>34.5</td>\n",
              "      <td>2</td>\n",
              "      <td>32.0</td>\n",
              "      <td>1.0</td>\n",
              "      <td>0.0</td>\n",
              "      <td>3</td>\n",
              "      <td>0</td>\n",
              "      <td>1.0</td>\n",
              "      <td>0</td>\n",
              "    </tr>\n",
              "    <tr>\n",
              "      <th>1</th>\n",
              "      <td>no-recurrence-events</td>\n",
              "      <td>44.5</td>\n",
              "      <td>2</td>\n",
              "      <td>22.0</td>\n",
              "      <td>1.0</td>\n",
              "      <td>0.0</td>\n",
              "      <td>2</td>\n",
              "      <td>1</td>\n",
              "      <td>2.0</td>\n",
              "      <td>0</td>\n",
              "    </tr>\n",
              "    <tr>\n",
              "      <th>2</th>\n",
              "      <td>no-recurrence-events</td>\n",
              "      <td>44.5</td>\n",
              "      <td>2</td>\n",
              "      <td>22.0</td>\n",
              "      <td>1.0</td>\n",
              "      <td>0.0</td>\n",
              "      <td>2</td>\n",
              "      <td>0</td>\n",
              "      <td>1.0</td>\n",
              "      <td>0</td>\n",
              "    </tr>\n",
              "    <tr>\n",
              "      <th>3</th>\n",
              "      <td>no-recurrence-events</td>\n",
              "      <td>64.5</td>\n",
              "      <td>1</td>\n",
              "      <td>17.0</td>\n",
              "      <td>1.0</td>\n",
              "      <td>0.0</td>\n",
              "      <td>2</td>\n",
              "      <td>1</td>\n",
              "      <td>0.0</td>\n",
              "      <td>0</td>\n",
              "    </tr>\n",
              "    <tr>\n",
              "      <th>4</th>\n",
              "      <td>no-recurrence-events</td>\n",
              "      <td>44.5</td>\n",
              "      <td>2</td>\n",
              "      <td>2.0</td>\n",
              "      <td>1.0</td>\n",
              "      <td>0.0</td>\n",
              "      <td>2</td>\n",
              "      <td>1</td>\n",
              "      <td>3.0</td>\n",
              "      <td>0</td>\n",
              "    </tr>\n",
              "  </tbody>\n",
              "</table>\n",
              "</div>"
            ],
            "text/plain": [
              "                      0     1  2     3    4    5  6  7    8  9\n",
              "0  no-recurrence-events  34.5  2  32.0  1.0  0.0  3  0  1.0  0\n",
              "1  no-recurrence-events  44.5  2  22.0  1.0  0.0  2  1  2.0  0\n",
              "2  no-recurrence-events  44.5  2  22.0  1.0  0.0  2  0  1.0  0\n",
              "3  no-recurrence-events  64.5  1  17.0  1.0  0.0  2  1  0.0  0\n",
              "4  no-recurrence-events  44.5  2   2.0  1.0  0.0  2  1  3.0  0"
            ]
          },
          "metadata": {
            "tags": []
          },
          "execution_count": 15
        }
      ]
    },
    {
      "cell_type": "code",
      "metadata": {
        "id": "7IrcIVkL33MF"
      },
      "source": [
        "clusters, centroids, quantError = gbestPSOClustering(1000, data_points[[1, 2, 3]].values, 3, 10)"
      ],
      "execution_count": 16,
      "outputs": []
    },
    {
      "cell_type": "code",
      "metadata": {
        "id": "0FKtYDwXxYD1",
        "colab": {
          "base_uri": "https://localhost:8080/"
        },
        "outputId": "c9a99684-29c5-491c-8903-3ebc45be6d53"
      },
      "source": [
        "print(\"Quantization Error : \", quantError)"
      ],
      "execution_count": 17,
      "outputs": [
        {
          "output_type": "stream",
          "text": [
            "Quantization Error :  8.486893901417854\n"
          ],
          "name": "stdout"
        }
      ]
    },
    {
      "cell_type": "code",
      "metadata": {
        "colab": {
          "base_uri": "https://localhost:8080/"
        },
        "id": "kkwPiRgmIkU7",
        "outputId": "94538ba2-d8ce-47cd-8101-eb3d343e66d4"
      },
      "source": [
        "class0 = []\n",
        "class1 = []\n",
        "for i in range(len(clusters)):\n",
        "  if clusters[i] == 0:\n",
        "    class0.append(i)\n",
        "  elif clusters[i] == 1:\n",
        "    class1.append(i)\n",
        "dis0 = getIntraClusterDistance(data_points.iloc[class0].iloc[:, 1:].values)\n",
        "dis1 = getIntraClusterDistance(data_points.iloc[class1].iloc[:, 1:].values)\n",
        "print(\"Intra Cluster Distances\")\n",
        "print(\"Class 0 : \", dis0)\n",
        "print(\"Class 1 : \", dis1)"
      ],
      "execution_count": 18,
      "outputs": [
        {
          "output_type": "stream",
          "text": [
            "Intra Cluster Distances\n",
            "Class 0 :  15.709882937946752\n",
            "Class 1 :  13.642235914318126\n"
          ],
          "name": "stdout"
        }
      ]
    },
    {
      "cell_type": "code",
      "metadata": {
        "colab": {
          "base_uri": "https://localhost:8080/"
        },
        "id": "45F0mqcxIi4f",
        "outputId": "bd547eef-7630-4b11-b1a1-efe4bcfd46b5"
      },
      "source": [
        "print(\"Inter Cluster Distances\")\n",
        "for i in range(len(centroids)):\n",
        "  for j in range(len(centroids)):\n",
        "    if j <= i:\n",
        "      continue\n",
        "    print(\"Class \", i, \"-\", j, \" : \", distance.euclidean(centroids[i], centroids[j]))"
      ],
      "execution_count": 19,
      "outputs": [
        {
          "output_type": "stream",
          "text": [
            "Inter Cluster Distances\n",
            "Class  0 - 1  :  10.006654701515737\n",
            "Class  0 - 2  :  22.844933151952347\n",
            "Class  1 - 2  :  14.207853171355922\n"
          ],
          "name": "stdout"
        }
      ]
    }
  ]
}